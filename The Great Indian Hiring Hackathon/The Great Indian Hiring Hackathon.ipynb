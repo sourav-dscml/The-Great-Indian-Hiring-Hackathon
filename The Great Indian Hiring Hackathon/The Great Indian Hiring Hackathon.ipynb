{
 "cells": [
  {
   "cell_type": "markdown",
   "metadata": {},
   "source": [
    "# The Great Indian Hiring Hackathon"
   ]
  },
  {
   "cell_type": "markdown",
   "metadata": {},
   "source": [
    "### (Foretelling the Retail price)"
   ]
  },
  {
   "cell_type": "markdown",
   "metadata": {},
   "source": [
    "This project was done as a part of the Hackathon organised by MachineHack.com.\n",
    "https://www.machinehack.com/hackathons/retail_price_prediction_mega_hiring_hackathon/overview\n",
    "\n",
    "\n",
    "The goal of this statistical analysis is to understand the relationship between retail price features and how these variables are used to predict retail price."
   ]
  },
  {
   "cell_type": "markdown",
   "metadata": {},
   "source": [
    "## Data used:"
   ]
  },
  {
   "cell_type": "markdown",
   "metadata": {},
   "source": [
    "https://www.machinehack.com/hackathons/retail_price_prediction_mega_hiring_hackathon/data"
   ]
  },
  {
   "cell_type": "markdown",
   "metadata": {},
   "source": [
    "## Exploratory Data Analysis (EDA)"
   ]
  },
  {
   "cell_type": "code",
   "execution_count": 1,
   "metadata": {},
   "outputs": [],
   "source": [
    "#importing libraries\n",
    "\n",
    "import pandas as pd\n",
    "import numpy as np\n",
    "import matplotlib.pyplot as plt\n",
    "import seaborn as sns\n",
    "\n",
    "from sklearn.model_selection import train_test_split\n",
    "from sklearn.preprocessing import MinMaxScaler\n",
    "from xgboost import XGBRegressor\n",
    "\n",
    "from sklearn.metrics import mean_squared_error,r2_score\n",
    "\n",
    "import warnings\n",
    "warnings.simplefilter('ignore')"
   ]
  },
  {
   "cell_type": "code",
   "execution_count": 2,
   "metadata": {},
   "outputs": [],
   "source": [
    "#import Data\n",
    "\n",
    "train_data = pd.read_csv('train.csv')\n",
    "test_data = pd.read_csv('test.csv')"
   ]
  },
  {
   "cell_type": "code",
   "execution_count": 3,
   "metadata": {},
   "outputs": [
    {
     "data": {
      "text/html": [
       "<div>\n",
       "<style scoped>\n",
       "    .dataframe tbody tr th:only-of-type {\n",
       "        vertical-align: middle;\n",
       "    }\n",
       "\n",
       "    .dataframe tbody tr th {\n",
       "        vertical-align: top;\n",
       "    }\n",
       "\n",
       "    .dataframe thead th {\n",
       "        text-align: right;\n",
       "    }\n",
       "</style>\n",
       "<table border=\"1\" class=\"dataframe\">\n",
       "  <thead>\n",
       "    <tr style=\"text-align: right;\">\n",
       "      <th></th>\n",
       "      <th>InvoiceNo</th>\n",
       "      <th>StockCode</th>\n",
       "      <th>Description</th>\n",
       "      <th>Quantity</th>\n",
       "      <th>UnitPrice</th>\n",
       "      <th>CustomerID</th>\n",
       "      <th>Country</th>\n",
       "    </tr>\n",
       "  </thead>\n",
       "  <tbody>\n",
       "    <tr>\n",
       "      <th>count</th>\n",
       "      <td>284780.000000</td>\n",
       "      <td>284780.000000</td>\n",
       "      <td>284780.000000</td>\n",
       "      <td>284780.000000</td>\n",
       "      <td>284780.000000</td>\n",
       "      <td>284780.000000</td>\n",
       "      <td>284780.000000</td>\n",
       "    </tr>\n",
       "    <tr>\n",
       "      <th>mean</th>\n",
       "      <td>9955.394083</td>\n",
       "      <td>1573.386807</td>\n",
       "      <td>2023.955573</td>\n",
       "      <td>12.028468</td>\n",
       "      <td>3.451216</td>\n",
       "      <td>15288.224278</td>\n",
       "      <td>32.823846</td>\n",
       "    </tr>\n",
       "    <tr>\n",
       "      <th>std</th>\n",
       "      <td>5551.519138</td>\n",
       "      <td>843.604991</td>\n",
       "      <td>1089.812078</td>\n",
       "      <td>295.111588</td>\n",
       "      <td>78.399541</td>\n",
       "      <td>1714.336529</td>\n",
       "      <td>6.743602</td>\n",
       "    </tr>\n",
       "    <tr>\n",
       "      <th>min</th>\n",
       "      <td>0.000000</td>\n",
       "      <td>0.000000</td>\n",
       "      <td>0.000000</td>\n",
       "      <td>-80995.000000</td>\n",
       "      <td>0.000000</td>\n",
       "      <td>12346.000000</td>\n",
       "      <td>0.000000</td>\n",
       "    </tr>\n",
       "    <tr>\n",
       "      <th>25%</th>\n",
       "      <td>5069.000000</td>\n",
       "      <td>939.000000</td>\n",
       "      <td>1141.000000</td>\n",
       "      <td>2.000000</td>\n",
       "      <td>1.250000</td>\n",
       "      <td>13953.000000</td>\n",
       "      <td>35.000000</td>\n",
       "    </tr>\n",
       "    <tr>\n",
       "      <th>50%</th>\n",
       "      <td>10310.000000</td>\n",
       "      <td>1521.000000</td>\n",
       "      <td>1987.000000</td>\n",
       "      <td>5.000000</td>\n",
       "      <td>1.950000</td>\n",
       "      <td>15152.000000</td>\n",
       "      <td>35.000000</td>\n",
       "    </tr>\n",
       "    <tr>\n",
       "      <th>75%</th>\n",
       "      <td>14657.000000</td>\n",
       "      <td>2106.000000</td>\n",
       "      <td>2945.000000</td>\n",
       "      <td>12.000000</td>\n",
       "      <td>3.750000</td>\n",
       "      <td>16794.000000</td>\n",
       "      <td>35.000000</td>\n",
       "    </tr>\n",
       "    <tr>\n",
       "      <th>max</th>\n",
       "      <td>22188.000000</td>\n",
       "      <td>3683.000000</td>\n",
       "      <td>3895.000000</td>\n",
       "      <td>80995.000000</td>\n",
       "      <td>38970.000000</td>\n",
       "      <td>18287.000000</td>\n",
       "      <td>36.000000</td>\n",
       "    </tr>\n",
       "  </tbody>\n",
       "</table>\n",
       "</div>"
      ],
      "text/plain": [
       "           InvoiceNo      StockCode    Description       Quantity  \\\n",
       "count  284780.000000  284780.000000  284780.000000  284780.000000   \n",
       "mean     9955.394083    1573.386807    2023.955573      12.028468   \n",
       "std      5551.519138     843.604991    1089.812078     295.111588   \n",
       "min         0.000000       0.000000       0.000000  -80995.000000   \n",
       "25%      5069.000000     939.000000    1141.000000       2.000000   \n",
       "50%     10310.000000    1521.000000    1987.000000       5.000000   \n",
       "75%     14657.000000    2106.000000    2945.000000      12.000000   \n",
       "max     22188.000000    3683.000000    3895.000000   80995.000000   \n",
       "\n",
       "           UnitPrice     CustomerID        Country  \n",
       "count  284780.000000  284780.000000  284780.000000  \n",
       "mean        3.451216   15288.224278      32.823846  \n",
       "std        78.399541    1714.336529       6.743602  \n",
       "min         0.000000   12346.000000       0.000000  \n",
       "25%         1.250000   13953.000000      35.000000  \n",
       "50%         1.950000   15152.000000      35.000000  \n",
       "75%         3.750000   16794.000000      35.000000  \n",
       "max     38970.000000   18287.000000      36.000000  "
      ]
     },
     "execution_count": 3,
     "metadata": {},
     "output_type": "execute_result"
    }
   ],
   "source": [
    "#Having an overview of the train data\n",
    "\n",
    "train_data.describe()"
   ]
  },
  {
   "cell_type": "code",
   "execution_count": 4,
   "metadata": {},
   "outputs": [
    {
     "data": {
      "text/html": [
       "<div>\n",
       "<style scoped>\n",
       "    .dataframe tbody tr th:only-of-type {\n",
       "        vertical-align: middle;\n",
       "    }\n",
       "\n",
       "    .dataframe tbody tr th {\n",
       "        vertical-align: top;\n",
       "    }\n",
       "\n",
       "    .dataframe thead th {\n",
       "        text-align: right;\n",
       "    }\n",
       "</style>\n",
       "<table border=\"1\" class=\"dataframe\">\n",
       "  <thead>\n",
       "    <tr style=\"text-align: right;\">\n",
       "      <th></th>\n",
       "      <th>InvoiceNo</th>\n",
       "      <th>StockCode</th>\n",
       "      <th>Description</th>\n",
       "      <th>Quantity</th>\n",
       "      <th>CustomerID</th>\n",
       "      <th>Country</th>\n",
       "    </tr>\n",
       "  </thead>\n",
       "  <tbody>\n",
       "    <tr>\n",
       "      <th>count</th>\n",
       "      <td>122049.000000</td>\n",
       "      <td>122049.000000</td>\n",
       "      <td>122049.000000</td>\n",
       "      <td>122049.000000</td>\n",
       "      <td>122049.000000</td>\n",
       "      <td>122049.000000</td>\n",
       "    </tr>\n",
       "    <tr>\n",
       "      <th>mean</th>\n",
       "      <td>9940.419692</td>\n",
       "      <td>1572.955788</td>\n",
       "      <td>2026.412744</td>\n",
       "      <td>12.137920</td>\n",
       "      <td>15286.445256</td>\n",
       "      <td>32.836795</td>\n",
       "    </tr>\n",
       "    <tr>\n",
       "      <th>std</th>\n",
       "      <td>5554.116349</td>\n",
       "      <td>845.106082</td>\n",
       "      <td>1087.697388</td>\n",
       "      <td>54.311646</td>\n",
       "      <td>1711.887591</td>\n",
       "      <td>6.726816</td>\n",
       "    </tr>\n",
       "    <tr>\n",
       "      <th>min</th>\n",
       "      <td>0.000000</td>\n",
       "      <td>0.000000</td>\n",
       "      <td>0.000000</td>\n",
       "      <td>-9360.000000</td>\n",
       "      <td>12347.000000</td>\n",
       "      <td>0.000000</td>\n",
       "    </tr>\n",
       "    <tr>\n",
       "      <th>25%</th>\n",
       "      <td>5018.000000</td>\n",
       "      <td>937.000000</td>\n",
       "      <td>1147.000000</td>\n",
       "      <td>2.000000</td>\n",
       "      <td>13953.000000</td>\n",
       "      <td>35.000000</td>\n",
       "    </tr>\n",
       "    <tr>\n",
       "      <th>50%</th>\n",
       "      <td>10311.000000</td>\n",
       "      <td>1523.000000</td>\n",
       "      <td>1987.000000</td>\n",
       "      <td>5.000000</td>\n",
       "      <td>15152.000000</td>\n",
       "      <td>35.000000</td>\n",
       "    </tr>\n",
       "    <tr>\n",
       "      <th>75%</th>\n",
       "      <td>14635.000000</td>\n",
       "      <td>2106.000000</td>\n",
       "      <td>2945.000000</td>\n",
       "      <td>12.000000</td>\n",
       "      <td>16782.000000</td>\n",
       "      <td>35.000000</td>\n",
       "    </tr>\n",
       "    <tr>\n",
       "      <th>max</th>\n",
       "      <td>22189.000000</td>\n",
       "      <td>3683.000000</td>\n",
       "      <td>3895.000000</td>\n",
       "      <td>4800.000000</td>\n",
       "      <td>18287.000000</td>\n",
       "      <td>36.000000</td>\n",
       "    </tr>\n",
       "  </tbody>\n",
       "</table>\n",
       "</div>"
      ],
      "text/plain": [
       "           InvoiceNo      StockCode    Description       Quantity  \\\n",
       "count  122049.000000  122049.000000  122049.000000  122049.000000   \n",
       "mean     9940.419692    1572.955788    2026.412744      12.137920   \n",
       "std      5554.116349     845.106082    1087.697388      54.311646   \n",
       "min         0.000000       0.000000       0.000000   -9360.000000   \n",
       "25%      5018.000000     937.000000    1147.000000       2.000000   \n",
       "50%     10311.000000    1523.000000    1987.000000       5.000000   \n",
       "75%     14635.000000    2106.000000    2945.000000      12.000000   \n",
       "max     22189.000000    3683.000000    3895.000000    4800.000000   \n",
       "\n",
       "          CustomerID        Country  \n",
       "count  122049.000000  122049.000000  \n",
       "mean    15286.445256      32.836795  \n",
       "std      1711.887591       6.726816  \n",
       "min     12347.000000       0.000000  \n",
       "25%     13953.000000      35.000000  \n",
       "50%     15152.000000      35.000000  \n",
       "75%     16782.000000      35.000000  \n",
       "max     18287.000000      36.000000  "
      ]
     },
     "execution_count": 4,
     "metadata": {},
     "output_type": "execute_result"
    }
   ],
   "source": [
    "#Having an overview of the test data\n",
    "test_data.describe()"
   ]
  },
  {
   "cell_type": "code",
   "execution_count": 5,
   "metadata": {},
   "outputs": [
    {
     "name": "stdout",
     "output_type": "stream",
     "text": [
      "<class 'pandas.core.frame.DataFrame'>\n",
      "RangeIndex: 284780 entries, 0 to 284779\n",
      "Data columns (total 8 columns):\n",
      " #   Column       Non-Null Count   Dtype  \n",
      "---  ------       --------------   -----  \n",
      " 0   InvoiceNo    284780 non-null  int64  \n",
      " 1   StockCode    284780 non-null  int64  \n",
      " 2   Description  284780 non-null  int64  \n",
      " 3   Quantity     284780 non-null  int64  \n",
      " 4   InvoiceDate  284780 non-null  object \n",
      " 5   UnitPrice    284780 non-null  float64\n",
      " 6   CustomerID   284780 non-null  float64\n",
      " 7   Country      284780 non-null  int64  \n",
      "dtypes: float64(2), int64(5), object(1)\n",
      "memory usage: 17.4+ MB\n"
     ]
    }
   ],
   "source": [
    "#getting detailed information on Train dataset\n",
    "train_data.info()"
   ]
  },
  {
   "cell_type": "code",
   "execution_count": 6,
   "metadata": {},
   "outputs": [
    {
     "data": {
      "text/html": [
       "<div>\n",
       "<style scoped>\n",
       "    .dataframe tbody tr th:only-of-type {\n",
       "        vertical-align: middle;\n",
       "    }\n",
       "\n",
       "    .dataframe tbody tr th {\n",
       "        vertical-align: top;\n",
       "    }\n",
       "\n",
       "    .dataframe thead th {\n",
       "        text-align: right;\n",
       "    }\n",
       "</style>\n",
       "<table border=\"1\" class=\"dataframe\">\n",
       "  <thead>\n",
       "    <tr style=\"text-align: right;\">\n",
       "      <th></th>\n",
       "      <th>InvoiceNo</th>\n",
       "      <th>StockCode</th>\n",
       "      <th>Description</th>\n",
       "      <th>Quantity</th>\n",
       "      <th>InvoiceDate</th>\n",
       "      <th>CustomerID</th>\n",
       "      <th>Country</th>\n",
       "    </tr>\n",
       "  </thead>\n",
       "  <tbody>\n",
       "    <tr>\n",
       "      <th>0</th>\n",
       "      <td>3139</td>\n",
       "      <td>1709</td>\n",
       "      <td>1079</td>\n",
       "      <td>3</td>\n",
       "      <td>2011-02-22 15:22:00</td>\n",
       "      <td>16161.0</td>\n",
       "      <td>35</td>\n",
       "    </tr>\n",
       "    <tr>\n",
       "      <th>1</th>\n",
       "      <td>617</td>\n",
       "      <td>510</td>\n",
       "      <td>3457</td>\n",
       "      <td>1</td>\n",
       "      <td>2010-12-08 12:46:00</td>\n",
       "      <td>17341.0</td>\n",
       "      <td>35</td>\n",
       "    </tr>\n",
       "    <tr>\n",
       "      <th>2</th>\n",
       "      <td>14653</td>\n",
       "      <td>604</td>\n",
       "      <td>694</td>\n",
       "      <td>36</td>\n",
       "      <td>2011-10-25 13:53:00</td>\n",
       "      <td>15158.0</td>\n",
       "      <td>35</td>\n",
       "    </tr>\n",
       "    <tr>\n",
       "      <th>3</th>\n",
       "      <td>8634</td>\n",
       "      <td>1478</td>\n",
       "      <td>3473</td>\n",
       "      <td>2</td>\n",
       "      <td>2011-06-27 12:38:00</td>\n",
       "      <td>16033.0</td>\n",
       "      <td>35</td>\n",
       "    </tr>\n",
       "    <tr>\n",
       "      <th>4</th>\n",
       "      <td>15546</td>\n",
       "      <td>3216</td>\n",
       "      <td>871</td>\n",
       "      <td>1</td>\n",
       "      <td>2011-11-06 16:14:00</td>\n",
       "      <td>15351.0</td>\n",
       "      <td>35</td>\n",
       "    </tr>\n",
       "  </tbody>\n",
       "</table>\n",
       "</div>"
      ],
      "text/plain": [
       "   InvoiceNo  StockCode  Description  Quantity          InvoiceDate  \\\n",
       "0       3139       1709         1079         3  2011-02-22 15:22:00   \n",
       "1        617        510         3457         1  2010-12-08 12:46:00   \n",
       "2      14653        604          694        36  2011-10-25 13:53:00   \n",
       "3       8634       1478         3473         2  2011-06-27 12:38:00   \n",
       "4      15546       3216          871         1  2011-11-06 16:14:00   \n",
       "\n",
       "   CustomerID  Country  \n",
       "0     16161.0       35  \n",
       "1     17341.0       35  \n",
       "2     15158.0       35  \n",
       "3     16033.0       35  \n",
       "4     15351.0       35  "
      ]
     },
     "execution_count": 6,
     "metadata": {},
     "output_type": "execute_result"
    }
   ],
   "source": [
    "#Selecting top 5 rows of the train dataset\n",
    "\n",
    "test_data.head()"
   ]
  },
  {
   "cell_type": "code",
   "execution_count": 7,
   "metadata": {},
   "outputs": [],
   "source": [
    "train_data['CustomerID'] = train_data['CustomerID'].apply(np.int64) \n",
    "test_data['CustomerID'] = test_data['CustomerID'].apply(np.int64) "
   ]
  },
  {
   "cell_type": "markdown",
   "metadata": {},
   "source": [
    "### Observations on the DataSet :"
   ]
  },
  {
   "cell_type": "markdown",
   "metadata": {},
   "source": [
    "1.\tTrain and Test, both data contains duplicate values. I have not removed the duplicates as I am going to use Tree based models.\n",
    "\n",
    "\n",
    "2.\tThe feature 'InvoiceNo' is not participating in prediction. I am going to remove this column.\n",
    "\n",
    "\n",
    "3.\tThe feature 'Quantity' contains few negative values. This might be due to return orders. However, after detail investigation I observed the value of Quantity is very misleading in predicting the price as I could not figure out any pattern between quantity and price change. I am going to drop this feature too.\n",
    "\n",
    "\n",
    "4.\tFor a particular 'StockCode', there can be multiple 'Description' present. Thus 'Description' should be treated as unique identifier."
   ]
  },
  {
   "cell_type": "markdown",
   "metadata": {},
   "source": [
    "### Feature Engineering"
   ]
  },
  {
   "cell_type": "markdown",
   "metadata": {},
   "source": [
    "After I having insights of the data I have created few new features out of the data set."
   ]
  },
  {
   "cell_type": "code",
   "execution_count": 8,
   "metadata": {},
   "outputs": [],
   "source": [
    "# InvoiceDate filed is stored as 'object'. We need to convert it into dattime first. After that will extract date features.\n",
    "\n",
    "#Converting 'InvoiceDate' into datetime from object\n",
    "\n",
    "train_data.InvoiceDate = pd.to_datetime(train_data.InvoiceDate)\n",
    "test_data.InvoiceDate = pd.to_datetime(test_data.InvoiceDate)"
   ]
  },
  {
   "cell_type": "code",
   "execution_count": 9,
   "metadata": {},
   "outputs": [],
   "source": [
    "#creating new fileds from InvoiceDate\n",
    "\n",
    "train_data['InvoiceDate_year'] = train_data.InvoiceDate.dt.year\n",
    "train_data['InvoiceDate_month'] = train_data.InvoiceDate.dt.month\n",
    "train_data['InvoiceDate_weekday'] = train_data.InvoiceDate.dt.weekday\n",
    "train_data['InvoiceDate_weekday_yr'] = train_data.InvoiceDate.dt.weekofyear\n",
    "\n",
    "test_data['InvoiceDate_year'] = test_data.InvoiceDate.dt.year\n",
    "test_data['InvoiceDate_month'] = test_data.InvoiceDate.dt.month\n",
    "test_data['InvoiceDate_weekday'] = test_data.InvoiceDate.dt.weekday\n",
    "test_data['InvoiceDate_weekday_yr'] = test_data.InvoiceDate.dt.weekofyear"
   ]
  },
  {
   "cell_type": "code",
   "execution_count": 10,
   "metadata": {},
   "outputs": [
    {
     "data": {
      "text/plain": [
       "Text(0, 0.5, 'Unit Price')"
      ]
     },
     "execution_count": 10,
     "metadata": {},
     "output_type": "execute_result"
    },
    {
     "data": {
      "image/png": "[encoded data removed]",
      "text/plain": [
       "<Figure size 1440x720 with 4 Axes>"
      ]
     },
     "metadata": {
      "needs_background": "light"
     },
     "output_type": "display_data"
    }
   ],
   "source": [
    "#Ploting the change of price over time period\n",
    "\n",
    "fig, ax = plt.subplots(2,2, figsize = (20,10))\n",
    "sns.lineplot(train_data.InvoiceDate_year, train_data.UnitPrice, ax = ax[0,0])\n",
    "plt.xlabel('Year')\n",
    "plt.ylabel('Unit Price')\n",
    "\n",
    "\n",
    "sns.lineplot(train_data.InvoiceDate_month, train_data.UnitPrice, ax = ax[1,0], color = 'green')\n",
    "plt.xlabel('Month')\n",
    "plt.ylabel('Unit Price')\n",
    "\n",
    "\n",
    "sns.lineplot(train_data.InvoiceDate_weekday, train_data.UnitPrice, ax = ax[0,1], color = 'c')\n",
    "plt.xlabel('Weekdays')\n",
    "plt.ylabel('Unit Price')\n",
    "\n",
    "sns.lineplot(train_data.InvoiceDate_weekday_yr, train_data.UnitPrice, ax = ax[1,1], color = 'm')\n",
    "plt.xlabel('Weekdats Year')\n",
    "plt.ylabel('Unit Price')\n",
    "# note: looking for seasonality impact on price"
   ]
  },
  {
   "cell_type": "code",
   "execution_count": 11,
   "metadata": {},
   "outputs": [
    {
     "data": {
      "text/html": [
       "<div>\n",
       "<style scoped>\n",
       "    .dataframe tbody tr th:only-of-type {\n",
       "        vertical-align: middle;\n",
       "    }\n",
       "\n",
       "    .dataframe tbody tr th {\n",
       "        vertical-align: top;\n",
       "    }\n",
       "\n",
       "    .dataframe thead th {\n",
       "        text-align: right;\n",
       "    }\n",
       "</style>\n",
       "<table border=\"1\" class=\"dataframe\">\n",
       "  <thead>\n",
       "    <tr style=\"text-align: right;\">\n",
       "      <th></th>\n",
       "      <th>InvoiceDate_month</th>\n",
       "      <th>UnitPrice</th>\n",
       "    </tr>\n",
       "  </thead>\n",
       "  <tbody>\n",
       "    <tr>\n",
       "      <th>10</th>\n",
       "      <td>11</td>\n",
       "      <td>138946.730</td>\n",
       "    </tr>\n",
       "    <tr>\n",
       "      <th>9</th>\n",
       "      <td>10</td>\n",
       "      <td>132638.550</td>\n",
       "    </tr>\n",
       "    <tr>\n",
       "      <th>5</th>\n",
       "      <td>6</td>\n",
       "      <td>102385.210</td>\n",
       "    </tr>\n",
       "    <tr>\n",
       "      <th>11</th>\n",
       "      <td>12</td>\n",
       "      <td>96546.120</td>\n",
       "    </tr>\n",
       "    <tr>\n",
       "      <th>8</th>\n",
       "      <td>9</td>\n",
       "      <td>83841.202</td>\n",
       "    </tr>\n",
       "    <tr>\n",
       "      <th>4</th>\n",
       "      <td>5</td>\n",
       "      <td>79160.680</td>\n",
       "    </tr>\n",
       "    <tr>\n",
       "      <th>2</th>\n",
       "      <td>3</td>\n",
       "      <td>66292.840</td>\n",
       "    </tr>\n",
       "    <tr>\n",
       "      <th>6</th>\n",
       "      <td>7</td>\n",
       "      <td>64243.631</td>\n",
       "    </tr>\n",
       "    <tr>\n",
       "      <th>3</th>\n",
       "      <td>4</td>\n",
       "      <td>61228.571</td>\n",
       "    </tr>\n",
       "    <tr>\n",
       "      <th>7</th>\n",
       "      <td>8</td>\n",
       "      <td>59668.270</td>\n",
       "    </tr>\n",
       "    <tr>\n",
       "      <th>0</th>\n",
       "      <td>1</td>\n",
       "      <td>51362.970</td>\n",
       "    </tr>\n",
       "    <tr>\n",
       "      <th>1</th>\n",
       "      <td>2</td>\n",
       "      <td>46522.490</td>\n",
       "    </tr>\n",
       "  </tbody>\n",
       "</table>\n",
       "</div>"
      ],
      "text/plain": [
       "    InvoiceDate_month   UnitPrice\n",
       "10                 11  138946.730\n",
       "9                  10  132638.550\n",
       "5                   6  102385.210\n",
       "11                 12   96546.120\n",
       "8                   9   83841.202\n",
       "4                   5   79160.680\n",
       "2                   3   66292.840\n",
       "6                   7   64243.631\n",
       "3                   4   61228.571\n",
       "7                   8   59668.270\n",
       "0                   1   51362.970\n",
       "1                   2   46522.490"
      ]
     },
     "execution_count": 11,
     "metadata": {},
     "output_type": "execute_result"
    }
   ],
   "source": [
    "#Checking the sum of Unit Price over InvoiceDate_month\n",
    "\n",
    "train_data.groupby('InvoiceDate_month')['UnitPrice'].sum().reset_index().sort_values(by='UnitPrice',ascending=False)"
   ]
  },
  {
   "cell_type": "code",
   "execution_count": 12,
   "metadata": {},
   "outputs": [],
   "source": [
    "#Label Encoding the month filed. Giving maximum weight having maximum sell and minimum weight to minimum selling month\n",
    "\n",
    "train_data['InvoiceDate_month']=train_data.InvoiceDate_month.apply(lambda x : 12 if x == 11 else(\n",
    "11 if x == 10 else(\n",
    "10 if x == 6 else (\n",
    "9 if x == 12 else (\n",
    "8 if x == 9 else (\n",
    "7 if x == 5 else (\n",
    "6 if x == 3 else (\n",
    "5 if x == 7 else (\n",
    "4 if x == 4 else (\n",
    "3 if x == 8 else (\n",
    "2 if x == 1 else 1 )))))))))))\n",
    "\n",
    "test_data['InvoiceDate_month']=test_data.InvoiceDate_month.apply(lambda x : 12 if x == 11 else(\n",
    "11 if x == 10 else(\n",
    "10 if x == 6 else (\n",
    "9 if x == 12 else (\n",
    "8 if x == 9 else (\n",
    "7 if x == 5 else (\n",
    "6 if x == 3 else (\n",
    "5 if x == 7 else (\n",
    "4 if x == 4 else (\n",
    "3 if x == 8 else (\n",
    "2 if x == 1 else 1 )))))))))))"
   ]
  },
  {
   "cell_type": "code",
   "execution_count": 13,
   "metadata": {},
   "outputs": [
    {
     "data": {
      "text/html": [
       "<div>\n",
       "<style scoped>\n",
       "    .dataframe tbody tr th:only-of-type {\n",
       "        vertical-align: middle;\n",
       "    }\n",
       "\n",
       "    .dataframe tbody tr th {\n",
       "        vertical-align: top;\n",
       "    }\n",
       "\n",
       "    .dataframe thead th {\n",
       "        text-align: right;\n",
       "    }\n",
       "</style>\n",
       "<table border=\"1\" class=\"dataframe\">\n",
       "  <thead>\n",
       "    <tr style=\"text-align: right;\">\n",
       "      <th></th>\n",
       "      <th>Description</th>\n",
       "      <th>UnitPrice</th>\n",
       "    </tr>\n",
       "  </thead>\n",
       "  <tbody>\n",
       "    <tr>\n",
       "      <th>1028</th>\n",
       "      <td>1043</td>\n",
       "      <td>781.587857</td>\n",
       "    </tr>\n",
       "    <tr>\n",
       "      <th>2356</th>\n",
       "      <td>2405</td>\n",
       "      <td>649.500000</td>\n",
       "    </tr>\n",
       "    <tr>\n",
       "      <th>869</th>\n",
       "      <td>882</td>\n",
       "      <td>496.340833</td>\n",
       "    </tr>\n",
       "    <tr>\n",
       "      <th>2099</th>\n",
       "      <td>2140</td>\n",
       "      <td>334.676469</td>\n",
       "    </tr>\n",
       "    <tr>\n",
       "      <th>3502</th>\n",
       "      <td>3571</td>\n",
       "      <td>156.111111</td>\n",
       "    </tr>\n",
       "  </tbody>\n",
       "</table>\n",
       "</div>"
      ],
      "text/plain": [
       "      Description   UnitPrice\n",
       "1028         1043  781.587857\n",
       "2356         2405  649.500000\n",
       "869           882  496.340833\n",
       "2099         2140  334.676469\n",
       "3502         3571  156.111111"
      ]
     },
     "execution_count": 13,
     "metadata": {},
     "output_type": "execute_result"
    }
   ],
   "source": [
    "#Aranging the products as per their avarage unit price\n",
    "\n",
    "price_desc = train_data.groupby('Description')['UnitPrice'].mean().reset_index().sort_values(by='UnitPrice',ascending=False)\n",
    "\n",
    "price_desc.head()"
   ]
  },
  {
   "cell_type": "code",
   "execution_count": 14,
   "metadata": {},
   "outputs": [
    {
     "name": "stdout",
     "output_type": "stream",
     "text": [
      "[  1   2   3   4   5   6   7   8   9  10  11  13  14  15  17  18  19  20\n",
      "  22  23  25  26  27  30  33  44  56  60  73  78  79 168 249 325 391]\n"
     ]
    }
   ],
   "source": [
    "#Creating groups of product description on basis of their avarage price by rounding up to the celling value \n",
    "#and dividing by .5 (to create more bins)\n",
    "\n",
    "price_desc['Rank'] = price_desc['UnitPrice'].apply(lambda x : int(np.ceil(x*0.5)))\n",
    "\n",
    "price_rank = np.sort(price_desc.Rank.unique())\n",
    "print(price_rank)\n",
    "\n",
    "#Creating a dictionary to serial ranks\n",
    "\n",
    "dic1 = {}\n",
    "for i in range(0,len(price_rank)):\n",
    "    dic1[price_rank[i]]=i+1\n",
    "\n",
    "#Mapping the continus Rank Value to the serial rank values\n",
    "price_desc['Rank'] = price_desc['Rank'].map(dic1)"
   ]
  },
  {
   "cell_type": "code",
   "execution_count": 15,
   "metadata": {},
   "outputs": [
    {
     "name": "stdout",
     "output_type": "stream",
     "text": [
      "35\n"
     ]
    }
   ],
   "source": [
    "#Creating a Dictionary to map our newly created rank values(weight) and corrosponding descriptons for label encoding\n",
    "\n",
    "dict_price_desc=pd.Series(price_desc.Rank.values,index=price_desc.Description).to_dict()\n",
    "\n",
    "#creating new feature Description_Rank after mapping Description values on basis of unitprice\n",
    "\n",
    "train_data['Description_Bin'] = train_data['Description'].astype(int).map(dict_price_desc)\n",
    "test_data['Description_Bin'] = test_data['Description'].astype(int).map(dict_price_desc)\n",
    "\n",
    "print(train_data['Description_Bin'].nunique())\n",
    "\n",
    "#filling the null Description_Rank values in test data. These are the descriptions those are not present in train set. Applying 1 as default value\n",
    "\n",
    "test_data.Description_Bin.fillna(1 , inplace = True)\n",
    "\n",
    "#Description_Rank was appearing as float in train dataset. I have reset it to int\n",
    "\n",
    "test_data['Description_Bin'] = test_data['Description_Bin'].apply(np.int64) "
   ]
  },
  {
   "cell_type": "code",
   "execution_count": 16,
   "metadata": {},
   "outputs": [
    {
     "data": {
      "text/html": [
       "<div>\n",
       "<style scoped>\n",
       "    .dataframe tbody tr th:only-of-type {\n",
       "        vertical-align: middle;\n",
       "    }\n",
       "\n",
       "    .dataframe tbody tr th {\n",
       "        vertical-align: top;\n",
       "    }\n",
       "\n",
       "    .dataframe thead th {\n",
       "        text-align: right;\n",
       "    }\n",
       "</style>\n",
       "<table border=\"1\" class=\"dataframe\">\n",
       "  <thead>\n",
       "    <tr style=\"text-align: right;\">\n",
       "      <th></th>\n",
       "      <th>InvoiceDate_month</th>\n",
       "      <th>Description</th>\n",
       "      <th>UnitPrice</th>\n",
       "    </tr>\n",
       "  </thead>\n",
       "  <tbody>\n",
       "    <tr>\n",
       "      <th>21359</th>\n",
       "      <td>10</td>\n",
       "      <td>2140</td>\n",
       "      <td>2650.538</td>\n",
       "    </tr>\n",
       "    <tr>\n",
       "      <th>17961</th>\n",
       "      <td>9</td>\n",
       "      <td>1043</td>\n",
       "      <td>1599.260</td>\n",
       "    </tr>\n",
       "    <tr>\n",
       "      <th>25628</th>\n",
       "      <td>12</td>\n",
       "      <td>1043</td>\n",
       "      <td>1301.335</td>\n",
       "    </tr>\n",
       "    <tr>\n",
       "      <th>17848</th>\n",
       "      <td>9</td>\n",
       "      <td>882</td>\n",
       "      <td>1100.440</td>\n",
       "    </tr>\n",
       "    <tr>\n",
       "      <th>6772</th>\n",
       "      <td>4</td>\n",
       "      <td>1066</td>\n",
       "      <td>993.930</td>\n",
       "    </tr>\n",
       "  </tbody>\n",
       "</table>\n",
       "</div>"
      ],
      "text/plain": [
       "       InvoiceDate_month  Description  UnitPrice\n",
       "21359                 10         2140   2650.538\n",
       "17961                  9         1043   1599.260\n",
       "25628                 12         1043   1301.335\n",
       "17848                  9          882   1100.440\n",
       "6772                   4         1066    993.930"
      ]
     },
     "execution_count": 16,
     "metadata": {},
     "output_type": "execute_result"
    }
   ],
   "source": [
    "#Arranging the avarage unit price of each product on monthly basis\n",
    "\n",
    "price_month =train_data.groupby(['InvoiceDate_month','Description']).agg('UnitPrice').mean().reset_index().sort_values(by='UnitPrice', ascending = False)\n",
    "price_month.head()"
   ]
  },
  {
   "cell_type": "code",
   "execution_count": 17,
   "metadata": {},
   "outputs": [
    {
     "name": "stdout",
     "output_type": "stream",
     "text": [
      "41\n"
     ]
    }
   ],
   "source": [
    "#Creating groups of product description on basis of their avarage price by rounding up to the celling value \n",
    "\n",
    "price_month['Rank'] = price_month['UnitPrice'].apply(lambda x : int(np.ceil(x)))\n",
    "\n",
    "#Creating a Dictionary to map our newly created rank values(weight) and corrosponding descriptons for label encoding\n",
    "\n",
    "dict_price_month=pd.Series(price_month.Rank.values,index=price_month.Description).to_dict()\n",
    "\n",
    "#creating new feature Month_Rank after mapping Description values on basis of unitprice per month\n",
    "\n",
    "train_data['Month_Bin'] = train_data['Description'].map(dict_price_month)\n",
    "test_data['Month_Bin'] = test_data['Description'].map(dict_price_month)\n",
    "\n",
    "print(train_data['Month_Bin'].nunique())\n",
    "#filling the null Description_bin values in test data. These are the descriptions those are not present in train set. Applying forward fill to inject randomness\n",
    "\n",
    "test_data.Month_Bin.ffill(inplace = True)\n",
    "\n",
    "#Month_Rank was appearing as float in train dataset. I have reset it to int\n",
    "\n",
    "test_data['Month_Bin'] = test_data['Month_Bin'].apply(np.int64) \n",
    "\n",
    "# NOTE: I hav not applied serial bining values in Month_Rank as I noticed that the value of the feature3 Rank is very close to actual predicted Unit PRice"
   ]
  },
  {
   "cell_type": "code",
   "execution_count": 18,
   "metadata": {},
   "outputs": [
    {
     "data": {
      "text/plain": [
       "<matplotlib.axes._subplots.AxesSubplot at 0x1d5703fa910>"
      ]
     },
     "execution_count": 18,
     "metadata": {},
     "output_type": "execute_result"
    },
    {
     "data": {
      "image/png": "[encoded data removed]",
      "text/plain": [
       "<Figure size 720x216 with 2 Axes>"
      ]
     },
     "metadata": {
      "needs_background": "light"
     },
     "output_type": "display_data"
    }
   ],
   "source": [
    "#Visualizing target filed(UnitPrice)\n",
    "fig, ax = plt.subplots(1,2, figsize = (10,3))\n",
    "\n",
    "sns.distplot(train_data.UnitPrice , ax = ax[0])\n",
    "sns.distplot(np.log1p(train_data.UnitPrice) , ax = ax[1])\n",
    "\n",
    "#Here I tried to plot the UnitPrice so that I can have a idea how it is distributed. The left picture is the data plotted as it is\n",
    "#and the right one after taking log. As we can see after taking log data is well distributed we will take log before processing it."
   ]
  },
  {
   "cell_type": "code",
   "execution_count": 19,
   "metadata": {},
   "outputs": [
    {
     "data": {
      "text/html": [
       "<div>\n",
       "<style scoped>\n",
       "    .dataframe tbody tr th:only-of-type {\n",
       "        vertical-align: middle;\n",
       "    }\n",
       "\n",
       "    .dataframe tbody tr th {\n",
       "        vertical-align: top;\n",
       "    }\n",
       "\n",
       "    .dataframe thead th {\n",
       "        text-align: right;\n",
       "    }\n",
       "</style>\n",
       "<table border=\"1\" class=\"dataframe\">\n",
       "  <thead>\n",
       "    <tr style=\"text-align: right;\">\n",
       "      <th></th>\n",
       "      <th>InvoiceNo</th>\n",
       "      <th>StockCode</th>\n",
       "      <th>Description</th>\n",
       "      <th>Quantity</th>\n",
       "      <th>InvoiceDate</th>\n",
       "      <th>UnitPrice</th>\n",
       "      <th>CustomerID</th>\n",
       "      <th>Country</th>\n",
       "      <th>InvoiceDate_year</th>\n",
       "      <th>InvoiceDate_month</th>\n",
       "      <th>InvoiceDate_weekday</th>\n",
       "      <th>InvoiceDate_weekday_yr</th>\n",
       "      <th>Description_Bin</th>\n",
       "      <th>Month_Bin</th>\n",
       "    </tr>\n",
       "  </thead>\n",
       "  <tbody>\n",
       "    <tr>\n",
       "      <th>0</th>\n",
       "      <td>6141</td>\n",
       "      <td>1583</td>\n",
       "      <td>144</td>\n",
       "      <td>3</td>\n",
       "      <td>2011-05-06 16:54:00</td>\n",
       "      <td>3.75</td>\n",
       "      <td>14056</td>\n",
       "      <td>35</td>\n",
       "      <td>2011</td>\n",
       "      <td>7</td>\n",
       "      <td>4</td>\n",
       "      <td>18</td>\n",
       "      <td>2</td>\n",
       "      <td>4</td>\n",
       "    </tr>\n",
       "    <tr>\n",
       "      <th>1</th>\n",
       "      <td>6349</td>\n",
       "      <td>1300</td>\n",
       "      <td>3682</td>\n",
       "      <td>6</td>\n",
       "      <td>2011-05-11 07:35:00</td>\n",
       "      <td>1.95</td>\n",
       "      <td>13098</td>\n",
       "      <td>35</td>\n",
       "      <td>2011</td>\n",
       "      <td>7</td>\n",
       "      <td>2</td>\n",
       "      <td>19</td>\n",
       "      <td>1</td>\n",
       "      <td>2</td>\n",
       "    </tr>\n",
       "    <tr>\n",
       "      <th>2</th>\n",
       "      <td>16783</td>\n",
       "      <td>2178</td>\n",
       "      <td>1939</td>\n",
       "      <td>4</td>\n",
       "      <td>2011-11-20 13:20:00</td>\n",
       "      <td>5.95</td>\n",
       "      <td>15044</td>\n",
       "      <td>35</td>\n",
       "      <td>2011</td>\n",
       "      <td>12</td>\n",
       "      <td>6</td>\n",
       "      <td>46</td>\n",
       "      <td>3</td>\n",
       "      <td>6</td>\n",
       "    </tr>\n",
       "  </tbody>\n",
       "</table>\n",
       "</div>"
      ],
      "text/plain": [
       "   InvoiceNo  StockCode  Description  Quantity         InvoiceDate  UnitPrice  \\\n",
       "0       6141       1583          144         3 2011-05-06 16:54:00       3.75   \n",
       "1       6349       1300         3682         6 2011-05-11 07:35:00       1.95   \n",
       "2      16783       2178         1939         4 2011-11-20 13:20:00       5.95   \n",
       "\n",
       "   CustomerID  Country  InvoiceDate_year  InvoiceDate_month  \\\n",
       "0       14056       35              2011                  7   \n",
       "1       13098       35              2011                  7   \n",
       "2       15044       35              2011                 12   \n",
       "\n",
       "   InvoiceDate_weekday  InvoiceDate_weekday_yr  Description_Bin  Month_Bin  \n",
       "0                    4                      18                2          4  \n",
       "1                    2                      19                1          2  \n",
       "2                    6                      46                3          6  "
      ]
     },
     "execution_count": 19,
     "metadata": {},
     "output_type": "execute_result"
    }
   ],
   "source": [
    "train_data.head(3)"
   ]
  },
  {
   "cell_type": "code",
   "execution_count": 20,
   "metadata": {},
   "outputs": [
    {
     "data": {
      "text/html": [
       "<div>\n",
       "<style scoped>\n",
       "    .dataframe tbody tr th:only-of-type {\n",
       "        vertical-align: middle;\n",
       "    }\n",
       "\n",
       "    .dataframe tbody tr th {\n",
       "        vertical-align: top;\n",
       "    }\n",
       "\n",
       "    .dataframe thead th {\n",
       "        text-align: right;\n",
       "    }\n",
       "</style>\n",
       "<table border=\"1\" class=\"dataframe\">\n",
       "  <thead>\n",
       "    <tr style=\"text-align: right;\">\n",
       "      <th></th>\n",
       "      <th>InvoiceNo</th>\n",
       "      <th>StockCode</th>\n",
       "      <th>Description</th>\n",
       "      <th>Quantity</th>\n",
       "      <th>InvoiceDate</th>\n",
       "      <th>CustomerID</th>\n",
       "      <th>Country</th>\n",
       "      <th>InvoiceDate_year</th>\n",
       "      <th>InvoiceDate_month</th>\n",
       "      <th>InvoiceDate_weekday</th>\n",
       "      <th>InvoiceDate_weekday_yr</th>\n",
       "      <th>Description_Bin</th>\n",
       "      <th>Month_Bin</th>\n",
       "    </tr>\n",
       "  </thead>\n",
       "  <tbody>\n",
       "    <tr>\n",
       "      <th>0</th>\n",
       "      <td>3139</td>\n",
       "      <td>1709</td>\n",
       "      <td>1079</td>\n",
       "      <td>3</td>\n",
       "      <td>2011-02-22 15:22:00</td>\n",
       "      <td>16161</td>\n",
       "      <td>35</td>\n",
       "      <td>2011</td>\n",
       "      <td>1</td>\n",
       "      <td>1</td>\n",
       "      <td>8</td>\n",
       "      <td>1</td>\n",
       "      <td>2</td>\n",
       "    </tr>\n",
       "    <tr>\n",
       "      <th>1</th>\n",
       "      <td>617</td>\n",
       "      <td>510</td>\n",
       "      <td>3457</td>\n",
       "      <td>1</td>\n",
       "      <td>2010-12-08 12:46:00</td>\n",
       "      <td>17341</td>\n",
       "      <td>35</td>\n",
       "      <td>2010</td>\n",
       "      <td>9</td>\n",
       "      <td>2</td>\n",
       "      <td>49</td>\n",
       "      <td>1</td>\n",
       "      <td>2</td>\n",
       "    </tr>\n",
       "    <tr>\n",
       "      <th>2</th>\n",
       "      <td>14653</td>\n",
       "      <td>604</td>\n",
       "      <td>694</td>\n",
       "      <td>36</td>\n",
       "      <td>2011-10-25 13:53:00</td>\n",
       "      <td>15158</td>\n",
       "      <td>35</td>\n",
       "      <td>2011</td>\n",
       "      <td>11</td>\n",
       "      <td>1</td>\n",
       "      <td>43</td>\n",
       "      <td>2</td>\n",
       "      <td>4</td>\n",
       "    </tr>\n",
       "  </tbody>\n",
       "</table>\n",
       "</div>"
      ],
      "text/plain": [
       "   InvoiceNo  StockCode  Description  Quantity         InvoiceDate  \\\n",
       "0       3139       1709         1079         3 2011-02-22 15:22:00   \n",
       "1        617        510         3457         1 2010-12-08 12:46:00   \n",
       "2      14653        604          694        36 2011-10-25 13:53:00   \n",
       "\n",
       "   CustomerID  Country  InvoiceDate_year  InvoiceDate_month  \\\n",
       "0       16161       35              2011                  1   \n",
       "1       17341       35              2010                  9   \n",
       "2       15158       35              2011                 11   \n",
       "\n",
       "   InvoiceDate_weekday  InvoiceDate_weekday_yr  Description_Bin  Month_Bin  \n",
       "0                    1                       8                1          2  \n",
       "1                    2                      49                1          2  \n",
       "2                    1                      43                2          4  "
      ]
     },
     "execution_count": 20,
     "metadata": {},
     "output_type": "execute_result"
    }
   ],
   "source": [
    "test_data.head(3)"
   ]
  },
  {
   "cell_type": "markdown",
   "metadata": {},
   "source": [
    "### Summary on New Features "
   ]
  },
  {
   "cell_type": "markdown",
   "metadata": {},
   "source": [
    "1. Created four new date feature (InvoiceDate_year,InvoiceDate_month,InvoiceDate_weekday,InvoiceDate_weekday_yr) by decomposing 'InvoiceDate'.\n",
    "\n",
    "\n",
    "2. Created new feature 'Description_Bin' by bining 'Description' into 35 segments on basis of 'UnitPrice'.\n",
    "\n",
    "\n",
    "3. Created new feature 'Month_Bin' by bining 'Description' into 41 segments on basis of monthly 'UnitPrice'."
   ]
  },
  {
   "cell_type": "markdown",
   "metadata": {},
   "source": [
    "## Data Preperation(1)"
   ]
  },
  {
   "cell_type": "markdown",
   "metadata": {},
   "source": [
    "I used GradientBoosting and CatBoosting models to predict the price. However, these models didn't worked very well for my case. XGBoost worked well for me.\n",
    "However, my model score was stuck at a certain level using XGBoost too.\n",
    "Finally, I took an approach of first creating one XGBoost model with my training data and use the prediction of the first model as a feature to my second and third XGBost model iteratively.\n",
    "This approach worked better for me. \n",
    "\n",
    "\n",
    "\n",
    "\n"
   ]
  },
  {
   "cell_type": "code",
   "execution_count": 21,
   "metadata": {},
   "outputs": [],
   "source": [
    "#Removing unnecessory columns and for my first model\n",
    "\n",
    "train_data_1 = train_data.drop(['InvoiceDate','InvoiceNo','Quantity','Description'], axis = 1)\n",
    "test_data_1 = test_data.drop(['InvoiceDate','InvoiceNo','Quantity','Description'], axis = 1)"
   ]
  },
  {
   "cell_type": "code",
   "execution_count": 22,
   "metadata": {},
   "outputs": [],
   "source": [
    "# Creating the dependent and independent features\n",
    "\n",
    "train_feature = train_data_1.drop(['UnitPrice'], axis = 1)\n",
    "train_label =  train_data_1['UnitPrice']"
   ]
  },
  {
   "cell_type": "code",
   "execution_count": 23,
   "metadata": {},
   "outputs": [],
   "source": [
    "#Splitting the data for training and validation into 7:3 test:validation ratio with random state 42\n",
    "\n",
    "train_x,val_x,train_y,val_y=train_test_split(train_feature,train_label,test_size=0.30,random_state=42)"
   ]
  },
  {
   "cell_type": "code",
   "execution_count": 24,
   "metadata": {},
   "outputs": [],
   "source": [
    "#scalling the data set\n",
    "\n",
    "scaller = MinMaxScaler()\n",
    "train_x = scaller.fit_transform(train_x,train_y)\n",
    "val_x = scaller.transform(val_x)\n",
    "test_data_scalled = scaller.transform(test_data_1)"
   ]
  },
  {
   "cell_type": "markdown",
   "metadata": {},
   "source": [
    "## ML Model Building (1)"
   ]
  },
  {
   "cell_type": "code",
   "execution_count": 25,
   "metadata": {},
   "outputs": [
    {
     "name": "stdout",
     "output_type": "stream",
     "text": [
      "RMSE Score---\n",
      "Train      : 6.3198989719776675\n",
      "Validation : 136.82362750078624\n",
      "R2 Score---\n",
      "Train      : 0.9309613628893496\n",
      "Validation : 0.021809571128093785\n"
     ]
    }
   ],
   "source": [
    "#Creating my first XGBoost model\n",
    "\n",
    "XGBModel1 = XGBRegressor(n_estimators=350, max_depth=12, learning_rate=0.12,subsample = 0.5,reg_lambda=0.005)\n",
    "XGBModel1.fit(train_x,np.log1p(train_y))\n",
    "\n",
    "#Measuring the performance with RMSE Score for XGBModel1\n",
    "\n",
    "print('RMSE Score---')\n",
    "pred_train = np.expm1(XGBModel1.predict(train_x)) \n",
    "print('Train      :', np.sqrt(mean_squared_error(train_y,pred_train))) # RMSE Score for training data set\n",
    "\n",
    "pred = np.expm1(XGBModel1.predict(val_x))\n",
    "print('Validation :',np.sqrt(mean_squared_error(val_y,pred))) # RMSE Score for validation data set\n",
    "\n",
    "#Measuring the performance with R2 Score for training and validation data\n",
    "\n",
    "print('R2 Score---')\n",
    "print('Train      :', r2_score(train_y,pred_train))\n",
    "print('Validation :', r2_score(val_y,pred))"
   ]
  },
  {
   "cell_type": "code",
   "execution_count": 26,
   "metadata": {},
   "outputs": [
    {
     "data": {
      "text/plain": [
       "[<matplotlib.lines.Line2D at 0x1d56f2485e0>]"
      ]
     },
     "execution_count": 26,
     "metadata": {},
     "output_type": "execute_result"
    },
    {
     "data": {
      "image/png": "[encoded data removed]",
      "text/plain": [
       "<Figure size 720x504 with 1 Axes>"
      ]
     },
     "metadata": {
      "needs_background": "light"
     },
     "output_type": "display_data"
    }
   ],
   "source": [
    "#ploting the prediction for XGBRegressor\n",
    "\n",
    "plt.figure(figsize=(10,7))\n",
    "plt.scatter(val_y,pred)\n",
    "plt.plot(val_y,val_y,'r')"
   ]
  },
  {
   "cell_type": "code",
   "execution_count": 27,
   "metadata": {},
   "outputs": [
    {
     "data": {
      "text/plain": [
       "<matplotlib.axes._subplots.AxesSubplot at 0x1d50044c580>"
      ]
     },
     "execution_count": 27,
     "metadata": {},
     "output_type": "execute_result"
    },
    {
     "data": {
      "image/png": "[encoded data removed]",
      "text/plain": [
       "<Figure size 720x504 with 1 Axes>"
      ]
     },
     "metadata": {
      "needs_background": "light"
     },
     "output_type": "display_data"
    }
   ],
   "source": [
    "#Displaying the important features for \n",
    "\n",
    "imp_feat=pd.Series(XGBModel1.feature_importances_,index=train_feature.columns)\n",
    "plt.figure(figsize=(10,7))\n",
    "imp_feat.sort_values(ascending=False).plot(kind='bar')"
   ]
  },
  {
   "cell_type": "code",
   "execution_count": 28,
   "metadata": {},
   "outputs": [],
   "source": [
    "#Scalling the whole traning set for new \n",
    "\n",
    "train_data_scalled = scaller.transform(train_feature)\n",
    "\n",
    "#Final Prediction of Price on complete training data set and unseen new dataset.\n",
    "\n",
    "XGBModel1_pred_train = np.expm1(XGBModel1.predict(train_data_scalled))\n",
    "XGBModel1_pred_test = np.expm1(XGBModel1.predict(test_data_scalled))"
   ]
  },
  {
   "cell_type": "code",
   "execution_count": 29,
   "metadata": {},
   "outputs": [],
   "source": [
    "#Convering result into new feature\n",
    "\n",
    "train_data['XBGOutput']=pd.Series(XGBModel1_pred_train.flatten())\n",
    "test_data['XBGOutput']=pd.Series(XGBModel1_pred_test.flatten())\n"
   ]
  },
  {
   "cell_type": "code",
   "execution_count": 30,
   "metadata": {},
   "outputs": [
    {
     "data": {
      "text/html": [
       "<div>\n",
       "<style scoped>\n",
       "    .dataframe tbody tr th:only-of-type {\n",
       "        vertical-align: middle;\n",
       "    }\n",
       "\n",
       "    .dataframe tbody tr th {\n",
       "        vertical-align: top;\n",
       "    }\n",
       "\n",
       "    .dataframe thead th {\n",
       "        text-align: right;\n",
       "    }\n",
       "</style>\n",
       "<table border=\"1\" class=\"dataframe\">\n",
       "  <thead>\n",
       "    <tr style=\"text-align: right;\">\n",
       "      <th></th>\n",
       "      <th>InvoiceNo</th>\n",
       "      <th>StockCode</th>\n",
       "      <th>Description</th>\n",
       "      <th>Quantity</th>\n",
       "      <th>InvoiceDate</th>\n",
       "      <th>UnitPrice</th>\n",
       "      <th>CustomerID</th>\n",
       "      <th>Country</th>\n",
       "      <th>InvoiceDate_year</th>\n",
       "      <th>InvoiceDate_month</th>\n",
       "      <th>InvoiceDate_weekday</th>\n",
       "      <th>InvoiceDate_weekday_yr</th>\n",
       "      <th>Description_Bin</th>\n",
       "      <th>Month_Bin</th>\n",
       "      <th>XBGOutput</th>\n",
       "    </tr>\n",
       "  </thead>\n",
       "  <tbody>\n",
       "    <tr>\n",
       "      <th>0</th>\n",
       "      <td>6141</td>\n",
       "      <td>1583</td>\n",
       "      <td>144</td>\n",
       "      <td>3</td>\n",
       "      <td>2011-05-06 16:54:00</td>\n",
       "      <td>3.75</td>\n",
       "      <td>14056</td>\n",
       "      <td>35</td>\n",
       "      <td>2011</td>\n",
       "      <td>7</td>\n",
       "      <td>4</td>\n",
       "      <td>18</td>\n",
       "      <td>2</td>\n",
       "      <td>4</td>\n",
       "      <td>3.772495</td>\n",
       "    </tr>\n",
       "    <tr>\n",
       "      <th>1</th>\n",
       "      <td>6349</td>\n",
       "      <td>1300</td>\n",
       "      <td>3682</td>\n",
       "      <td>6</td>\n",
       "      <td>2011-05-11 07:35:00</td>\n",
       "      <td>1.95</td>\n",
       "      <td>13098</td>\n",
       "      <td>35</td>\n",
       "      <td>2011</td>\n",
       "      <td>7</td>\n",
       "      <td>2</td>\n",
       "      <td>19</td>\n",
       "      <td>1</td>\n",
       "      <td>2</td>\n",
       "      <td>1.935282</td>\n",
       "    </tr>\n",
       "    <tr>\n",
       "      <th>2</th>\n",
       "      <td>16783</td>\n",
       "      <td>2178</td>\n",
       "      <td>1939</td>\n",
       "      <td>4</td>\n",
       "      <td>2011-11-20 13:20:00</td>\n",
       "      <td>5.95</td>\n",
       "      <td>15044</td>\n",
       "      <td>35</td>\n",
       "      <td>2011</td>\n",
       "      <td>12</td>\n",
       "      <td>6</td>\n",
       "      <td>46</td>\n",
       "      <td>3</td>\n",
       "      <td>6</td>\n",
       "      <td>5.966130</td>\n",
       "    </tr>\n",
       "  </tbody>\n",
       "</table>\n",
       "</div>"
      ],
      "text/plain": [
       "   InvoiceNo  StockCode  Description  Quantity         InvoiceDate  UnitPrice  \\\n",
       "0       6141       1583          144         3 2011-05-06 16:54:00       3.75   \n",
       "1       6349       1300         3682         6 2011-05-11 07:35:00       1.95   \n",
       "2      16783       2178         1939         4 2011-11-20 13:20:00       5.95   \n",
       "\n",
       "   CustomerID  Country  InvoiceDate_year  InvoiceDate_month  \\\n",
       "0       14056       35              2011                  7   \n",
       "1       13098       35              2011                  7   \n",
       "2       15044       35              2011                 12   \n",
       "\n",
       "   InvoiceDate_weekday  InvoiceDate_weekday_yr  Description_Bin  Month_Bin  \\\n",
       "0                    4                      18                2          4   \n",
       "1                    2                      19                1          2   \n",
       "2                    6                      46                3          6   \n",
       "\n",
       "   XBGOutput  \n",
       "0   3.772495  \n",
       "1   1.935282  \n",
       "2   5.966130  "
      ]
     },
     "execution_count": 30,
     "metadata": {},
     "output_type": "execute_result"
    }
   ],
   "source": [
    "#Looking at the final data set after phase 2\n",
    "\n",
    "train_data.head(3)"
   ]
  },
  {
   "cell_type": "code",
   "execution_count": 31,
   "metadata": {},
   "outputs": [
    {
     "data": {
      "text/html": [
       "<div>\n",
       "<style scoped>\n",
       "    .dataframe tbody tr th:only-of-type {\n",
       "        vertical-align: middle;\n",
       "    }\n",
       "\n",
       "    .dataframe tbody tr th {\n",
       "        vertical-align: top;\n",
       "    }\n",
       "\n",
       "    .dataframe thead th {\n",
       "        text-align: right;\n",
       "    }\n",
       "</style>\n",
       "<table border=\"1\" class=\"dataframe\">\n",
       "  <thead>\n",
       "    <tr style=\"text-align: right;\">\n",
       "      <th></th>\n",
       "      <th>InvoiceNo</th>\n",
       "      <th>StockCode</th>\n",
       "      <th>Description</th>\n",
       "      <th>Quantity</th>\n",
       "      <th>InvoiceDate</th>\n",
       "      <th>CustomerID</th>\n",
       "      <th>Country</th>\n",
       "      <th>InvoiceDate_year</th>\n",
       "      <th>InvoiceDate_month</th>\n",
       "      <th>InvoiceDate_weekday</th>\n",
       "      <th>InvoiceDate_weekday_yr</th>\n",
       "      <th>Description_Bin</th>\n",
       "      <th>Month_Bin</th>\n",
       "      <th>XBGOutput</th>\n",
       "    </tr>\n",
       "  </thead>\n",
       "  <tbody>\n",
       "    <tr>\n",
       "      <th>0</th>\n",
       "      <td>3139</td>\n",
       "      <td>1709</td>\n",
       "      <td>1079</td>\n",
       "      <td>3</td>\n",
       "      <td>2011-02-22 15:22:00</td>\n",
       "      <td>16161</td>\n",
       "      <td>35</td>\n",
       "      <td>2011</td>\n",
       "      <td>1</td>\n",
       "      <td>1</td>\n",
       "      <td>8</td>\n",
       "      <td>1</td>\n",
       "      <td>2</td>\n",
       "      <td>1.645642</td>\n",
       "    </tr>\n",
       "    <tr>\n",
       "      <th>1</th>\n",
       "      <td>617</td>\n",
       "      <td>510</td>\n",
       "      <td>3457</td>\n",
       "      <td>1</td>\n",
       "      <td>2010-12-08 12:46:00</td>\n",
       "      <td>17341</td>\n",
       "      <td>35</td>\n",
       "      <td>2010</td>\n",
       "      <td>9</td>\n",
       "      <td>2</td>\n",
       "      <td>49</td>\n",
       "      <td>1</td>\n",
       "      <td>2</td>\n",
       "      <td>1.263222</td>\n",
       "    </tr>\n",
       "    <tr>\n",
       "      <th>2</th>\n",
       "      <td>14653</td>\n",
       "      <td>604</td>\n",
       "      <td>694</td>\n",
       "      <td>36</td>\n",
       "      <td>2011-10-25 13:53:00</td>\n",
       "      <td>15158</td>\n",
       "      <td>35</td>\n",
       "      <td>2011</td>\n",
       "      <td>11</td>\n",
       "      <td>1</td>\n",
       "      <td>43</td>\n",
       "      <td>2</td>\n",
       "      <td>4</td>\n",
       "      <td>4.196516</td>\n",
       "    </tr>\n",
       "  </tbody>\n",
       "</table>\n",
       "</div>"
      ],
      "text/plain": [
       "   InvoiceNo  StockCode  Description  Quantity         InvoiceDate  \\\n",
       "0       3139       1709         1079         3 2011-02-22 15:22:00   \n",
       "1        617        510         3457         1 2010-12-08 12:46:00   \n",
       "2      14653        604          694        36 2011-10-25 13:53:00   \n",
       "\n",
       "   CustomerID  Country  InvoiceDate_year  InvoiceDate_month  \\\n",
       "0       16161       35              2011                  1   \n",
       "1       17341       35              2010                  9   \n",
       "2       15158       35              2011                 11   \n",
       "\n",
       "   InvoiceDate_weekday  InvoiceDate_weekday_yr  Description_Bin  Month_Bin  \\\n",
       "0                    1                       8                1          2   \n",
       "1                    2                      49                1          2   \n",
       "2                    1                      43                2          4   \n",
       "\n",
       "   XBGOutput  \n",
       "0   1.645642  \n",
       "1   1.263222  \n",
       "2   4.196516  "
      ]
     },
     "execution_count": 31,
     "metadata": {},
     "output_type": "execute_result"
    }
   ],
   "source": [
    "test_data.head(3)"
   ]
  },
  {
   "cell_type": "markdown",
   "metadata": {},
   "source": [
    "## Data Preperation(2)"
   ]
  },
  {
   "cell_type": "code",
   "execution_count": 32,
   "metadata": {},
   "outputs": [],
   "source": [
    "#Droping unnecessory columns for the 2nd XGBoost model\n",
    "#Here, removing earlier created feature 'Description_Bin','Month_Bin' as more powerful feature 'XBGOutput' has been created\n",
    "\n",
    "train_data_2 = train_data.drop(['InvoiceDate','InvoiceNo','Quantity','Description_Bin','Month_Bin'], axis = 1)\n",
    "test_data_2 = test_data.drop(['InvoiceDate','InvoiceNo','Quantity','Description_Bin','Month_Bin'], axis = 1)"
   ]
  },
  {
   "cell_type": "code",
   "execution_count": 33,
   "metadata": {},
   "outputs": [],
   "source": [
    "# Creating the dependent and independent features\n",
    "\n",
    "train_feature_2 = train_data_2.drop(['UnitPrice'], axis = 1)\n",
    "train_label_2 =  train_data_2['UnitPrice']"
   ]
  },
  {
   "cell_type": "code",
   "execution_count": 34,
   "metadata": {},
   "outputs": [],
   "source": [
    "#Splitting the data for training and validation with 9:1 ratio for train:validation\n",
    "\n",
    "train_x_2,val_x_2,train_y_2,val_y_2 = train_test_split(train_feature_2,train_label_2,test_size=0.01,random_state=42)"
   ]
  },
  {
   "cell_type": "code",
   "execution_count": 35,
   "metadata": {},
   "outputs": [],
   "source": [
    "#Scalling the data:\n",
    "\n",
    "train_x_2 = scaller.fit_transform(train_x_2,train_y_2)\n",
    "val_x_2 = scaller.transform(val_x_2)\n",
    "test_data_scalled_2 = scaller.transform(test_data_2)"
   ]
  },
  {
   "cell_type": "markdown",
   "metadata": {},
   "source": [
    "## ML Model Building (2)"
   ]
  },
  {
   "cell_type": "code",
   "execution_count": 36,
   "metadata": {},
   "outputs": [
    {
     "name": "stdout",
     "output_type": "stream",
     "text": [
      "RMSE Score---\n",
      "Train      : 7.188644338699648\n",
      "Validation : 18.415815942978092\n",
      "R2 Score---\n",
      "Train      : 0.9916651518700481\n",
      "Validation : 0.5964828705435425\n"
     ]
    }
   ],
   "source": [
    "#Creating my Second XGBoost model\n",
    "\n",
    "XGBModel2 = XGBRegressor(n_estimators=400, max_depth=12, learning_rate=0.2,subsample = 0.5,reg_lambda=0.003)\n",
    "XGBModel2.fit(train_x_2,np.log1p(train_y_2))\n",
    "\n",
    "#Measuring the performance with RMSE Score for XGBModel2\n",
    "\n",
    "print('RMSE Score---')\n",
    "pred_train_2 = np.expm1(XGBModel2.predict(train_x_2)) \n",
    "print('Train      :', np.sqrt(mean_squared_error(train_y_2,pred_train_2))) # RMSE Score for training data set\n",
    "\n",
    "pred_2 = np.expm1(XGBModel2.predict(val_x_2))\n",
    "print('Validation :',np.sqrt(mean_squared_error(val_y_2,pred_2))) # RMSE Score for validation data set\n",
    "\n",
    "#Measuring the performance with R2 Score for training and validation data\n",
    "\n",
    "print('R2 Score---')\n",
    "print('Train      :', r2_score(train_y_2,pred_train_2))\n",
    "print('Validation :', r2_score(val_y_2,pred_2))\n",
    "\n",
    "# RMSE Score---\n",
    "# Train      : 6.636998358057048\n",
    "# Validation :  236.10993922513308\n",
    "# R2 Score---\n",
    "# Train      : 0.9254565482498727\n",
    "# Validation :  0.007048235571451178\n",
    "\n",
    "# RMSE Score---\n",
    "# Train      : 7.188644338699648\n",
    "# Validation : 18.415815942978092\n",
    "# R2 Score---\n",
    "# Train      : 0.9916651518700481\n",
    "# Validation : 0.5964828705435425"
   ]
  },
  {
   "cell_type": "code",
   "execution_count": 37,
   "metadata": {},
   "outputs": [
    {
     "data": {
      "text/plain": [
       "[<matplotlib.lines.Line2D at 0x1d5006625b0>]"
      ]
     },
     "execution_count": 37,
     "metadata": {},
     "output_type": "execute_result"
    },
    {
     "data": {
      "image/png": "[encoded data removed]",
      "text/plain": [
       "<Figure size 720x504 with 1 Axes>"
      ]
     },
     "metadata": {
      "needs_background": "light"
     },
     "output_type": "display_data"
    }
   ],
   "source": [
    "#ploting the prediction for XGBRegressor\n",
    "\n",
    "plt.figure(figsize=(10,7))\n",
    "plt.scatter(val_y_2,pred_2)\n",
    "plt.plot(val_y_2,val_y_2,'r')"
   ]
  },
  {
   "cell_type": "code",
   "execution_count": 38,
   "metadata": {},
   "outputs": [
    {
     "data": {
      "text/plain": [
       "<matplotlib.axes._subplots.AxesSubplot at 0x1d50068ca00>"
      ]
     },
     "execution_count": 38,
     "metadata": {},
     "output_type": "execute_result"
    },
    {
     "data": {
      "image/png": "[encoded data removed]",
      "text/plain": [
       "<Figure size 720x504 with 1 Axes>"
      ]
     },
     "metadata": {
      "needs_background": "light"
     },
     "output_type": "display_data"
    }
   ],
   "source": [
    "#Displaying the important features for \n",
    "\n",
    "imp_feat=pd.Series(XGBModel2.feature_importances_,index=train_feature_2.columns)\n",
    "plt.figure(figsize=(10,7))\n",
    "imp_feat.sort_values(ascending=False).plot(kind='bar')"
   ]
  },
  {
   "cell_type": "code",
   "execution_count": 39,
   "metadata": {},
   "outputs": [],
   "source": [
    "#Scalling the whole traning set for 3rd xgbmodel \n",
    "\n",
    "train_data_scalled_2 = scaller.transform(train_feature_2)\n",
    "\n",
    "#Final Prediction of Price on complete training data set and unseen new dataset.\n",
    "\n",
    "XGBModel2_pred_train = np.expm1(XGBModel2.predict(train_data_scalled_2))\n",
    "XGBModel2_pred_test = np.expm1(XGBModel2.predict(test_data_scalled_2))"
   ]
  },
  {
   "cell_type": "code",
   "execution_count": 40,
   "metadata": {},
   "outputs": [],
   "source": [
    "#Convering result into 3rd XGBModel\n",
    "\n",
    "train_data['XBGOutput2']=pd.Series(XGBModel2_pred_train.flatten())\n",
    "test_data['XBGOutput2']=pd.Series(XGBModel2_pred_test.flatten())"
   ]
  },
  {
   "cell_type": "code",
   "execution_count": 41,
   "metadata": {},
   "outputs": [
    {
     "data": {
      "text/html": [
       "<div>\n",
       "<style scoped>\n",
       "    .dataframe tbody tr th:only-of-type {\n",
       "        vertical-align: middle;\n",
       "    }\n",
       "\n",
       "    .dataframe tbody tr th {\n",
       "        vertical-align: top;\n",
       "    }\n",
       "\n",
       "    .dataframe thead th {\n",
       "        text-align: right;\n",
       "    }\n",
       "</style>\n",
       "<table border=\"1\" class=\"dataframe\">\n",
       "  <thead>\n",
       "    <tr style=\"text-align: right;\">\n",
       "      <th></th>\n",
       "      <th>InvoiceNo</th>\n",
       "      <th>StockCode</th>\n",
       "      <th>Description</th>\n",
       "      <th>Quantity</th>\n",
       "      <th>InvoiceDate</th>\n",
       "      <th>UnitPrice</th>\n",
       "      <th>CustomerID</th>\n",
       "      <th>Country</th>\n",
       "      <th>InvoiceDate_year</th>\n",
       "      <th>InvoiceDate_month</th>\n",
       "      <th>InvoiceDate_weekday</th>\n",
       "      <th>InvoiceDate_weekday_yr</th>\n",
       "      <th>Description_Bin</th>\n",
       "      <th>Month_Bin</th>\n",
       "      <th>XBGOutput</th>\n",
       "      <th>XBGOutput2</th>\n",
       "    </tr>\n",
       "  </thead>\n",
       "  <tbody>\n",
       "    <tr>\n",
       "      <th>0</th>\n",
       "      <td>6141</td>\n",
       "      <td>1583</td>\n",
       "      <td>144</td>\n",
       "      <td>3</td>\n",
       "      <td>2011-05-06 16:54:00</td>\n",
       "      <td>3.75</td>\n",
       "      <td>14056</td>\n",
       "      <td>35</td>\n",
       "      <td>2011</td>\n",
       "      <td>7</td>\n",
       "      <td>4</td>\n",
       "      <td>18</td>\n",
       "      <td>2</td>\n",
       "      <td>4</td>\n",
       "      <td>3.772495</td>\n",
       "      <td>3.750324</td>\n",
       "    </tr>\n",
       "    <tr>\n",
       "      <th>1</th>\n",
       "      <td>6349</td>\n",
       "      <td>1300</td>\n",
       "      <td>3682</td>\n",
       "      <td>6</td>\n",
       "      <td>2011-05-11 07:35:00</td>\n",
       "      <td>1.95</td>\n",
       "      <td>13098</td>\n",
       "      <td>35</td>\n",
       "      <td>2011</td>\n",
       "      <td>7</td>\n",
       "      <td>2</td>\n",
       "      <td>19</td>\n",
       "      <td>1</td>\n",
       "      <td>2</td>\n",
       "      <td>1.935282</td>\n",
       "      <td>1.941332</td>\n",
       "    </tr>\n",
       "    <tr>\n",
       "      <th>2</th>\n",
       "      <td>16783</td>\n",
       "      <td>2178</td>\n",
       "      <td>1939</td>\n",
       "      <td>4</td>\n",
       "      <td>2011-11-20 13:20:00</td>\n",
       "      <td>5.95</td>\n",
       "      <td>15044</td>\n",
       "      <td>35</td>\n",
       "      <td>2011</td>\n",
       "      <td>12</td>\n",
       "      <td>6</td>\n",
       "      <td>46</td>\n",
       "      <td>3</td>\n",
       "      <td>6</td>\n",
       "      <td>5.966130</td>\n",
       "      <td>5.947136</td>\n",
       "    </tr>\n",
       "    <tr>\n",
       "      <th>3</th>\n",
       "      <td>16971</td>\n",
       "      <td>2115</td>\n",
       "      <td>2983</td>\n",
       "      <td>1</td>\n",
       "      <td>2011-11-22 12:07:00</td>\n",
       "      <td>0.83</td>\n",
       "      <td>15525</td>\n",
       "      <td>35</td>\n",
       "      <td>2011</td>\n",
       "      <td>12</td>\n",
       "      <td>1</td>\n",
       "      <td>47</td>\n",
       "      <td>1</td>\n",
       "      <td>1</td>\n",
       "      <td>0.828130</td>\n",
       "      <td>0.831826</td>\n",
       "    </tr>\n",
       "    <tr>\n",
       "      <th>4</th>\n",
       "      <td>6080</td>\n",
       "      <td>1210</td>\n",
       "      <td>2886</td>\n",
       "      <td>12</td>\n",
       "      <td>2011-05-06 09:00:00</td>\n",
       "      <td>1.65</td>\n",
       "      <td>13952</td>\n",
       "      <td>35</td>\n",
       "      <td>2011</td>\n",
       "      <td>7</td>\n",
       "      <td>4</td>\n",
       "      <td>18</td>\n",
       "      <td>1</td>\n",
       "      <td>2</td>\n",
       "      <td>1.677277</td>\n",
       "      <td>1.656439</td>\n",
       "    </tr>\n",
       "  </tbody>\n",
       "</table>\n",
       "</div>"
      ],
      "text/plain": [
       "   InvoiceNo  StockCode  Description  Quantity         InvoiceDate  UnitPrice  \\\n",
       "0       6141       1583          144         3 2011-05-06 16:54:00       3.75   \n",
       "1       6349       1300         3682         6 2011-05-11 07:35:00       1.95   \n",
       "2      16783       2178         1939         4 2011-11-20 13:20:00       5.95   \n",
       "3      16971       2115         2983         1 2011-11-22 12:07:00       0.83   \n",
       "4       6080       1210         2886        12 2011-05-06 09:00:00       1.65   \n",
       "\n",
       "   CustomerID  Country  InvoiceDate_year  InvoiceDate_month  \\\n",
       "0       14056       35              2011                  7   \n",
       "1       13098       35              2011                  7   \n",
       "2       15044       35              2011                 12   \n",
       "3       15525       35              2011                 12   \n",
       "4       13952       35              2011                  7   \n",
       "\n",
       "   InvoiceDate_weekday  InvoiceDate_weekday_yr  Description_Bin  Month_Bin  \\\n",
       "0                    4                      18                2          4   \n",
       "1                    2                      19                1          2   \n",
       "2                    6                      46                3          6   \n",
       "3                    1                      47                1          1   \n",
       "4                    4                      18                1          2   \n",
       "\n",
       "   XBGOutput  XBGOutput2  \n",
       "0   3.772495    3.750324  \n",
       "1   1.935282    1.941332  \n",
       "2   5.966130    5.947136  \n",
       "3   0.828130    0.831826  \n",
       "4   1.677277    1.656439  "
      ]
     },
     "execution_count": 41,
     "metadata": {},
     "output_type": "execute_result"
    }
   ],
   "source": [
    "train_data.head()"
   ]
  },
  {
   "cell_type": "code",
   "execution_count": 42,
   "metadata": {},
   "outputs": [
    {
     "data": {
      "text/html": [
       "<div>\n",
       "<style scoped>\n",
       "    .dataframe tbody tr th:only-of-type {\n",
       "        vertical-align: middle;\n",
       "    }\n",
       "\n",
       "    .dataframe tbody tr th {\n",
       "        vertical-align: top;\n",
       "    }\n",
       "\n",
       "    .dataframe thead th {\n",
       "        text-align: right;\n",
       "    }\n",
       "</style>\n",
       "<table border=\"1\" class=\"dataframe\">\n",
       "  <thead>\n",
       "    <tr style=\"text-align: right;\">\n",
       "      <th></th>\n",
       "      <th>InvoiceNo</th>\n",
       "      <th>StockCode</th>\n",
       "      <th>Description</th>\n",
       "      <th>Quantity</th>\n",
       "      <th>InvoiceDate</th>\n",
       "      <th>CustomerID</th>\n",
       "      <th>Country</th>\n",
       "      <th>InvoiceDate_year</th>\n",
       "      <th>InvoiceDate_month</th>\n",
       "      <th>InvoiceDate_weekday</th>\n",
       "      <th>InvoiceDate_weekday_yr</th>\n",
       "      <th>Description_Bin</th>\n",
       "      <th>Month_Bin</th>\n",
       "      <th>XBGOutput</th>\n",
       "      <th>XBGOutput2</th>\n",
       "    </tr>\n",
       "  </thead>\n",
       "  <tbody>\n",
       "    <tr>\n",
       "      <th>0</th>\n",
       "      <td>3139</td>\n",
       "      <td>1709</td>\n",
       "      <td>1079</td>\n",
       "      <td>3</td>\n",
       "      <td>2011-02-22 15:22:00</td>\n",
       "      <td>16161</td>\n",
       "      <td>35</td>\n",
       "      <td>2011</td>\n",
       "      <td>1</td>\n",
       "      <td>1</td>\n",
       "      <td>8</td>\n",
       "      <td>1</td>\n",
       "      <td>2</td>\n",
       "      <td>1.645642</td>\n",
       "      <td>1.643720</td>\n",
       "    </tr>\n",
       "    <tr>\n",
       "      <th>1</th>\n",
       "      <td>617</td>\n",
       "      <td>510</td>\n",
       "      <td>3457</td>\n",
       "      <td>1</td>\n",
       "      <td>2010-12-08 12:46:00</td>\n",
       "      <td>17341</td>\n",
       "      <td>35</td>\n",
       "      <td>2010</td>\n",
       "      <td>9</td>\n",
       "      <td>2</td>\n",
       "      <td>49</td>\n",
       "      <td>1</td>\n",
       "      <td>2</td>\n",
       "      <td>1.263222</td>\n",
       "      <td>1.241195</td>\n",
       "    </tr>\n",
       "    <tr>\n",
       "      <th>2</th>\n",
       "      <td>14653</td>\n",
       "      <td>604</td>\n",
       "      <td>694</td>\n",
       "      <td>36</td>\n",
       "      <td>2011-10-25 13:53:00</td>\n",
       "      <td>15158</td>\n",
       "      <td>35</td>\n",
       "      <td>2011</td>\n",
       "      <td>11</td>\n",
       "      <td>1</td>\n",
       "      <td>43</td>\n",
       "      <td>2</td>\n",
       "      <td>4</td>\n",
       "      <td>4.196516</td>\n",
       "      <td>4.230935</td>\n",
       "    </tr>\n",
       "    <tr>\n",
       "      <th>3</th>\n",
       "      <td>8634</td>\n",
       "      <td>1478</td>\n",
       "      <td>3473</td>\n",
       "      <td>2</td>\n",
       "      <td>2011-06-27 12:38:00</td>\n",
       "      <td>16033</td>\n",
       "      <td>35</td>\n",
       "      <td>2011</td>\n",
       "      <td>10</td>\n",
       "      <td>0</td>\n",
       "      <td>26</td>\n",
       "      <td>1</td>\n",
       "      <td>2</td>\n",
       "      <td>1.644490</td>\n",
       "      <td>1.652604</td>\n",
       "    </tr>\n",
       "    <tr>\n",
       "      <th>4</th>\n",
       "      <td>15546</td>\n",
       "      <td>3216</td>\n",
       "      <td>871</td>\n",
       "      <td>1</td>\n",
       "      <td>2011-11-06 16:14:00</td>\n",
       "      <td>15351</td>\n",
       "      <td>35</td>\n",
       "      <td>2011</td>\n",
       "      <td>12</td>\n",
       "      <td>6</td>\n",
       "      <td>44</td>\n",
       "      <td>7</td>\n",
       "      <td>13</td>\n",
       "      <td>12.775178</td>\n",
       "      <td>12.799099</td>\n",
       "    </tr>\n",
       "  </tbody>\n",
       "</table>\n",
       "</div>"
      ],
      "text/plain": [
       "   InvoiceNo  StockCode  Description  Quantity         InvoiceDate  \\\n",
       "0       3139       1709         1079         3 2011-02-22 15:22:00   \n",
       "1        617        510         3457         1 2010-12-08 12:46:00   \n",
       "2      14653        604          694        36 2011-10-25 13:53:00   \n",
       "3       8634       1478         3473         2 2011-06-27 12:38:00   \n",
       "4      15546       3216          871         1 2011-11-06 16:14:00   \n",
       "\n",
       "   CustomerID  Country  InvoiceDate_year  InvoiceDate_month  \\\n",
       "0       16161       35              2011                  1   \n",
       "1       17341       35              2010                  9   \n",
       "2       15158       35              2011                 11   \n",
       "3       16033       35              2011                 10   \n",
       "4       15351       35              2011                 12   \n",
       "\n",
       "   InvoiceDate_weekday  InvoiceDate_weekday_yr  Description_Bin  Month_Bin  \\\n",
       "0                    1                       8                1          2   \n",
       "1                    2                      49                1          2   \n",
       "2                    1                      43                2          4   \n",
       "3                    0                      26                1          2   \n",
       "4                    6                      44                7         13   \n",
       "\n",
       "   XBGOutput  XBGOutput2  \n",
       "0   1.645642    1.643720  \n",
       "1   1.263222    1.241195  \n",
       "2   4.196516    4.230935  \n",
       "3   1.644490    1.652604  \n",
       "4  12.775178   12.799099  "
      ]
     },
     "execution_count": 42,
     "metadata": {},
     "output_type": "execute_result"
    }
   ],
   "source": [
    "test_data.head()"
   ]
  },
  {
   "cell_type": "markdown",
   "metadata": {},
   "source": [
    "## Data Preperation(3)"
   ]
  },
  {
   "cell_type": "code",
   "execution_count": 43,
   "metadata": {},
   "outputs": [],
   "source": [
    "#Droping unnecessory columns for the 2nd XGBoost model\n",
    "#Here, removing earlier created feature 'Description_Bin','Month_Bin' and 'XBGOutput' as more powerful feature 'XBGOutput' has been created\n",
    "\n",
    "train_data_3 = train_data.drop(['InvoiceDate','InvoiceNo','Quantity','Description_Bin','Month_Bin','XBGOutput'], axis = 1)\n",
    "test_data_3 = test_data.drop(['InvoiceDate','InvoiceNo','Quantity','Description_Bin','Month_Bin','XBGOutput'], axis = 1)"
   ]
  },
  {
   "cell_type": "code",
   "execution_count": 44,
   "metadata": {},
   "outputs": [],
   "source": [
    "# Creating the dependent and independent features\n",
    "\n",
    "train_feature_3 = train_data_3.drop(['UnitPrice'], axis = 1)\n",
    "train_label_3 =  train_data_3['UnitPrice']"
   ]
  },
  {
   "cell_type": "code",
   "execution_count": 45,
   "metadata": {},
   "outputs": [],
   "source": [
    "#Splitting the data for training and validation with 9:1 ratio for train:validation\n",
    "\n",
    "train_x_3,val_x_3,train_y_3,val_y_3 = train_test_split(train_feature_3,train_label_3,test_size=0.01,random_state=42)"
   ]
  },
  {
   "cell_type": "code",
   "execution_count": 46,
   "metadata": {},
   "outputs": [],
   "source": [
    "#Scalling the data:\n",
    "\n",
    "train_x_3 = scaller.fit_transform(train_x_3,train_y_3)\n",
    "val_x_3 = scaller.transform(val_x_3)\n",
    "test_data_scalled_3 = scaller.transform(test_data_3)"
   ]
  },
  {
   "cell_type": "markdown",
   "metadata": {},
   "source": [
    "## ML Model Building (3)"
   ]
  },
  {
   "cell_type": "code",
   "execution_count": 47,
   "metadata": {},
   "outputs": [
    {
     "name": "stdout",
     "output_type": "stream",
     "text": [
      "RMSE Score---\n",
      "Train      : 7.914275194918363\n",
      "Validation : 18.328920619622053\n",
      "R2 Score---\n",
      "Train      : 0.989897566708687\n",
      "Validation : 0.6002818905940155\n"
     ]
    }
   ],
   "source": [
    "#Creating my Second XGBoost model\n",
    "\n",
    "XGBModel3 = XGBRegressor(n_estimators=400, max_depth=12, learning_rate=0.205,subsample = 0.5,reg_lambda=0.003)\n",
    "XGBModel3.fit(train_x_3,np.log1p(train_y_3))\n",
    "\n",
    "#Measuring the performance with RMSE Score for XGBModel2\n",
    "\n",
    "print('RMSE Score---')\n",
    "pred_train_3 = np.expm1(XGBModel3.predict(train_x_3)) \n",
    "print('Train      :', np.sqrt(mean_squared_error(train_y_3,pred_train_3))) # RMSE Score for training data set\n",
    "\n",
    "pred_3 = np.expm1(XGBModel3.predict(val_x_3))\n",
    "print('Validation :',np.sqrt(mean_squared_error(val_y_3,pred_3))) # RMSE Score for validation data set\n",
    "\n",
    "#Measuring the performance with R2 Score for training and validation data\n",
    "\n",
    "print('R2 Score---')\n",
    "print('Train      :', r2_score(train_y_3,pred_train_3))\n",
    "print('Validation :', r2_score(val_y_3,pred_3))\n",
    "\n",
    "# RMSE Score---\n",
    "# Train      : 7.976992052594598\n",
    "# Validation : 18.446563620940353\n",
    "# R2 Score---\n",
    "# Train      : 0.9897368183606798\n",
    "# Validation : 0.5951342935874209"
   ]
  },
  {
   "cell_type": "code",
   "execution_count": 48,
   "metadata": {},
   "outputs": [
    {
     "data": {
      "text/plain": [
       "[<matplotlib.lines.Line2D at 0x1d509ad9fa0>]"
      ]
     },
     "execution_count": 48,
     "metadata": {},
     "output_type": "execute_result"
    },
    {
     "data": {
      "image/png": "[encoded data removed]",
      "text/plain": [
       "<Figure size 720x504 with 1 Axes>"
      ]
     },
     "metadata": {
      "needs_background": "light"
     },
     "output_type": "display_data"
    }
   ],
   "source": [
    "#ploting the prediction for XGBRegressor\n",
    "\n",
    "plt.figure(figsize=(10,7))\n",
    "plt.scatter(val_y_3,pred_3)\n",
    "plt.plot(val_y_3,val_y_3,'r')"
   ]
  },
  {
   "cell_type": "code",
   "execution_count": 49,
   "metadata": {},
   "outputs": [
    {
     "data": {
      "text/plain": [
       "<matplotlib.axes._subplots.AxesSubplot at 0x1d50a3ed910>"
      ]
     },
     "execution_count": 49,
     "metadata": {},
     "output_type": "execute_result"
    },
    {
     "data": {
      "image/png": "[encoded data removed]",
      "text/plain": [
       "<Figure size 720x504 with 1 Axes>"
      ]
     },
     "metadata": {
      "needs_background": "light"
     },
     "output_type": "display_data"
    }
   ],
   "source": [
    "#Displaying the important features for \n",
    "\n",
    "imp_feat=pd.Series(XGBModel3.feature_importances_,index=train_feature_3.columns)\n",
    "plt.figure(figsize=(10,7))\n",
    "imp_feat.sort_values(ascending=False).plot(kind='bar')"
   ]
  },
  {
   "cell_type": "markdown",
   "metadata": {},
   "source": [
    "### Final Prediction on Unseen Dataset"
   ]
  },
  {
   "cell_type": "code",
   "execution_count": 50,
   "metadata": {},
   "outputs": [
    {
     "data": {
      "text/html": [
       "<div>\n",
       "<style scoped>\n",
       "    .dataframe tbody tr th:only-of-type {\n",
       "        vertical-align: middle;\n",
       "    }\n",
       "\n",
       "    .dataframe tbody tr th {\n",
       "        vertical-align: top;\n",
       "    }\n",
       "\n",
       "    .dataframe thead th {\n",
       "        text-align: right;\n",
       "    }\n",
       "</style>\n",
       "<table border=\"1\" class=\"dataframe\">\n",
       "  <thead>\n",
       "    <tr style=\"text-align: right;\">\n",
       "      <th></th>\n",
       "      <th>UnitPrice</th>\n",
       "    </tr>\n",
       "  </thead>\n",
       "  <tbody>\n",
       "    <tr>\n",
       "      <th>0</th>\n",
       "      <td>1.648438</td>\n",
       "    </tr>\n",
       "    <tr>\n",
       "      <th>1</th>\n",
       "      <td>1.252611</td>\n",
       "    </tr>\n",
       "    <tr>\n",
       "      <th>2</th>\n",
       "      <td>4.242200</td>\n",
       "    </tr>\n",
       "    <tr>\n",
       "      <th>3</th>\n",
       "      <td>1.650958</td>\n",
       "    </tr>\n",
       "    <tr>\n",
       "      <th>4</th>\n",
       "      <td>10.483052</td>\n",
       "    </tr>\n",
       "  </tbody>\n",
       "</table>\n",
       "</div>"
      ],
      "text/plain": [
       "   UnitPrice\n",
       "0   1.648438\n",
       "1   1.252611\n",
       "2   4.242200\n",
       "3   1.650958\n",
       "4  10.483052"
      ]
     },
     "execution_count": 50,
     "metadata": {},
     "output_type": "execute_result"
    }
   ],
   "source": [
    "#Final Prediction of Price on completely unseen new dataset.\n",
    "\n",
    "final_pred = np.expm1(XGBModel3.predict(test_data_scalled_3))\n",
    "\n",
    "#Convering prediction in Pandas dataframe\n",
    "result = pd.DataFrame()\n",
    "result['UnitPrice']=pd.Series(final_pred.flatten())\n",
    "\n",
    "#Final Result\n",
    "result.head()"
   ]
  },
  {
   "cell_type": "code",
   "execution_count": 51,
   "metadata": {},
   "outputs": [],
   "source": [
    "# Exporting result to CSV ('Sample Submission.csv')\n",
    "\n",
    "result.to_csv('Sample Submission.csv',index=False)"
   ]
  },
  {
   "cell_type": "code",
   "execution_count": null,
   "metadata": {},
   "outputs": [],
   "source": []
  }
 ],
 "metadata": {
  "kernelspec": {
   "display_name": "Python 3",
   "language": "python",
   "name": "python3"
  },
  "language_info": {
   "codemirror_mode": {
    "name": "ipython",
    "version": 3
   },
   "file_extension": ".py",
   "mimetype": "text/x-python",
   "name": "python",
   "nbconvert_exporter": "python",
   "pygments_lexer": "ipython3",
   "version": "3.8.3"
  }
 },
 "nbformat": 4,
 "nbformat_minor": 4
}
